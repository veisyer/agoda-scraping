{
 "cells": [
  {
   "cell_type": "code",
   "execution_count": 1,
   "id": "3ffa5dc7-b80b-4182-b9e9-79c025a47024",
   "metadata": {},
   "outputs": [],
   "source": [
    "import requests\n",
    "import time\n",
    "from bs4 import BeautifulSoup\n",
    "from selenium import webdriver\n",
    "from selenium.webdriver.common.keys import Keys #to be able to click/input\n",
    "from selenium.webdriver.support.ui import WebDriverWait #wait excplicit\n",
    "from selenium.webdriver.support import expected_conditions as EC #wait explicit\n",
    "from selenium.webdriver.common.by import By #find_element\n",
    "from selenium.common.exceptions import NoSuchElementException, StaleElementReferenceException, ElementClickInterceptedException\n",
    "from tabulate import tabulate\n",
    "import pandas as pd\n",
    "from pandas.errors import InvalidIndexError\n",
    "import numpy as np"
   ]
  },
  {
   "cell_type": "code",
   "execution_count": 2,
   "id": "7e0cc96a-dea9-42b9-95d9-40dfdf71dba8",
   "metadata": {},
   "outputs": [],
   "source": [
    "driver = webdriver.Chrome()\n",
    "\n",
    "url = 'https://www.agoda.com/search?guid=072a0fac-d28e-4c65-a967-975833a22c48&asq=NQVGXW6jsE3tbdY9S%2BqUCpufa9Vwpz6XltTHq4n%2B9gPt6Sc9VYM%2BOtJvOdzFsuZ%2F3domjxbl67NdtXL0GBAVXaGQ1bwiOxIe%2FbY2DD%2FjB2ZjJ4jhAySpNAre7NeCVK9bATUmemHrs9SuRiKczbbzwwqQMycviD3CIWSJVwpQ8srbJXYAXDvNrCu7lWp2RsTjP54KjiP0bwIN%2BoYlOAPqpVur%2Ftc%2B54Iv4fnCDM4f8d8%3D&city=14018&tick=638616441062&locale=en-us&ckuid=9c386087-5783-4d15-8cee-affafdc523d8&prid=0&currency=IDR&correlationId=c56c8aaa-d549-4f28-840a-e0ea7c7dc2e7&analyticsSessionId=-1262129150739550036&pageTypeId=1&realLanguageId=1&languageId=1&origin=ID&stateCode=YO&cid=1844104&userId=9c386087-5783-4d15-8cee-affafdc523d8&whitelabelid=1&loginLvl=0&storefrontId=3&currencyId=25&currencyCode=IDR&htmlLanguage=en-us&cultureInfoName=en-us&machineName=sg-pc-6h-acm-web-user-7b4ddfb7f5-kw8zf&trafficGroupId=1&trafficSubGroupId=84&aid=130589&useFullPageLogin=true&cttp=4&isRealUser=true&mode=production&browserFamily=Edge+%28Chromium%29+for+Windows&cdnDomain=agoda.net&checkIn=2024-09-17&checkOut=2024-09-18&rooms=1&adults=1&children=0&priceCur=IDR&los=1&textToSearch=Yogyakarta&travellerType=0&familyMode=off&ds=A0vbMurrcmdrV7DB&productType=-1' \n",
    "\n",
    "driver.get(url)"
   ]
  },
  {
   "cell_type": "code",
   "execution_count": 21,
   "id": "9f80ac7c-7447-444a-95a7-d056a82b0aac",
   "metadata": {
    "collapsed": true,
    "jupyter": {
     "outputs_hidden": true
    }
   },
   "outputs": [
    {
     "name": "stdout",
     "output_type": "stream",
     "text": [
      "There are 25 hotel information retreived\n",
      "There are 50 hotel information retreived\n",
      "There are 75 hotel information retreived\n",
      "There are 100 hotel information retreived\n",
      "There are 125 hotel information retreived\n",
      "There are 150 hotel information retreived\n",
      "There are 175 hotel information retreived\n",
      "There are 200 hotel information retreived\n",
      "There are 225 hotel information retreived\n",
      "There are 250 hotel information retreived\n",
      "There are 275 hotel information retreived\n",
      "There are 300 hotel information retreived\n",
      "There are 325 hotel information retreived\n",
      "There are 350 hotel information retreived\n"
     ]
    },
    {
     "ename": "KeyboardInterrupt",
     "evalue": "",
     "output_type": "error",
     "traceback": [
      "\u001b[1;31m---------------------------------------------------------------------------\u001b[0m",
      "\u001b[1;31mKeyboardInterrupt\u001b[0m                         Traceback (most recent call last)",
      "Cell \u001b[1;32mIn[21], line 12\u001b[0m\n\u001b[0;32m     10\u001b[0m     last_height \u001b[38;5;241m=\u001b[39m driver\u001b[38;5;241m.\u001b[39mexecute_script(\u001b[38;5;124m\"\u001b[39m\u001b[38;5;124mreturn window.pageYOffset + window.innerHeight\u001b[39m\u001b[38;5;124m\"\u001b[39m)\n\u001b[0;32m     11\u001b[0m     driver\u001b[38;5;241m.\u001b[39mexecute_script(\u001b[38;5;124m\"\u001b[39m\u001b[38;5;124mwindow.scrollBy(0, 1000);\u001b[39m\u001b[38;5;124m\"\u001b[39m)\n\u001b[1;32m---> 12\u001b[0m     \u001b[43mtime\u001b[49m\u001b[38;5;241;43m.\u001b[39;49m\u001b[43msleep\u001b[49m\u001b[43m(\u001b[49m\u001b[38;5;241;43m0.5\u001b[39;49m\u001b[43m)\u001b[49m\n\u001b[0;32m     13\u001b[0m     new_height \u001b[38;5;241m=\u001b[39m driver\u001b[38;5;241m.\u001b[39mexecute_script(\u001b[38;5;124m\"\u001b[39m\u001b[38;5;124mreturn window.pageYOffset + window.innerHeight\u001b[39m\u001b[38;5;124m\"\u001b[39m)\n\u001b[0;32m     14\u001b[0m     \u001b[38;5;28;01mif\u001b[39;00m last_height \u001b[38;5;241m==\u001b[39m new_height:\n\u001b[0;32m     15\u001b[0m \n\u001b[0;32m     16\u001b[0m \n\u001b[0;32m     17\u001b[0m \u001b[38;5;66;03m### ----- Scraping ----- ###\u001b[39;00m\n",
      "\u001b[1;31mKeyboardInterrupt\u001b[0m: "
     ]
    }
   ],
   "source": [
    "prog = 0\n",
    "agoda_hotel = []\n",
    "\n",
    "# Zoom level: 0.8 (might not be universal: try to jump down to the bottom of the page and zoom out until 'next' button is visible)\n",
    "zoom_level = \"0.8\"\n",
    "driver.execute_script(f\"document.body.style.zoom='{zoom_level}'\")\n",
    "\n",
    "### ----- Loops ----- ###\n",
    "while True:\n",
    "    last_height = driver.execute_script(\"return window.pageYOffset + window.innerHeight\")\n",
    "    driver.execute_script(\"window.scrollBy(0, 1000);\")\n",
    "    time.sleep(0.5)\n",
    "    new_height = driver.execute_script(\"return window.pageYOffset + window.innerHeight\")\n",
    "    if last_height == new_height:\n",
    "\n",
    "\n",
    "### ----- Scraping ----- ###\n",
    "        card = driver.find_elements(By.CSS_SELECTOR, 'ol.hotel-list-container')\n",
    "        for x in card:\n",
    "            hotel = x.find_elements(By.CSS_SELECTOR, 'li.PropertyCard.PropertyCardItem')\n",
    "            for y in hotel:\n",
    "                try:\n",
    "                    # Name\n",
    "                    name = y.find_element(By.CSS_SELECTOR, 'h3.sc-jrAGrp.sc-kEjbxe.eDlaBj.dscgss').text\n",
    "                    \n",
    "                    # Price\n",
    "                    price = y.find_element(By.CSS_SELECTOR, 'div[data-element-name=\"final-price\"] > span[data-selenium=\"display-price\"]').text\n",
    "                    \n",
    "                    # Star\n",
    "                    try:\n",
    "                        star = y.find_elements(By.CSS_SELECTOR, 'svg.sc-eCssSg.sc-jSgupP.eUOibf')\n",
    "                    except NoSuchElementException as idkwhybutihavetodothisforstar:\n",
    "                        star = []\n",
    "                    \n",
    "                    # Appending\n",
    "                    hotel_list = {'Nama Hotel': name,\n",
    "                                  'Harga Hotel': price,\n",
    "                                  'Bintang': len(star)\n",
    "                                 }\n",
    "                    agoda_hotel.append(hotel_list)\n",
    "                    \n",
    "                    # Progress Tracking\n",
    "                    prog+=1\n",
    "                    if prog % 25 == 0:\n",
    "                        print(f'There are {prog} hotel information retreived')\n",
    "\n",
    "                except NoSuchElementException as no_info:\n",
    "                    continue\n",
    "                    \n",
    "#--- Begin the new Loops ---#\n",
    "        next_page = driver.find_element(By.XPATH, '//*[@id=\"paginationNext\"]')\n",
    "        next_page.click()\n",
    "        time.sleep(2)"
   ]
  },
  {
   "cell_type": "code",
   "execution_count": 22,
   "id": "a8651d0f-ee3e-4ebb-bfb4-967d4f17ad4a",
   "metadata": {},
   "outputs": [],
   "source": [
    "df = pd.DataFrame(agoda_hotel)"
   ]
  },
  {
   "cell_type": "code",
   "execution_count": 24,
   "id": "0c176ad7-9bd6-4853-ad5e-f362aa077ee9",
   "metadata": {
    "collapsed": true,
    "jupyter": {
     "outputs_hidden": true
    }
   },
   "outputs": [
    {
     "data": {
      "text/html": [
       "<div>\n",
       "<style scoped>\n",
       "    .dataframe tbody tr th:only-of-type {\n",
       "        vertical-align: middle;\n",
       "    }\n",
       "\n",
       "    .dataframe tbody tr th {\n",
       "        vertical-align: top;\n",
       "    }\n",
       "\n",
       "    .dataframe thead th {\n",
       "        text-align: right;\n",
       "    }\n",
       "</style>\n",
       "<table border=\"1\" class=\"dataframe\">\n",
       "  <thead>\n",
       "    <tr style=\"text-align: right;\">\n",
       "      <th></th>\n",
       "      <th>Nama Hotel</th>\n",
       "      <th>Harga Hotel</th>\n",
       "      <th>Bintang</th>\n",
       "    </tr>\n",
       "  </thead>\n",
       "  <tbody>\n",
       "    <tr>\n",
       "      <th>0</th>\n",
       "      <td>Amaya Suites Hotel</td>\n",
       "      <td>140,637</td>\n",
       "      <td>2</td>\n",
       "    </tr>\n",
       "    <tr>\n",
       "      <th>1</th>\n",
       "      <td>RedDoorz Hostel near Stadion Mandala Krida Yogya</td>\n",
       "      <td>42,972</td>\n",
       "      <td>2</td>\n",
       "    </tr>\n",
       "    <tr>\n",
       "      <th>2</th>\n",
       "      <td>Allstay Ecotel Yogyakarta</td>\n",
       "      <td>226,436</td>\n",
       "      <td>2</td>\n",
       "    </tr>\n",
       "    <tr>\n",
       "      <th>3</th>\n",
       "      <td>The Cabin Hotel</td>\n",
       "      <td>111,782</td>\n",
       "      <td>1</td>\n",
       "    </tr>\n",
       "    <tr>\n",
       "      <th>4</th>\n",
       "      <td>Grand Sarila Hotel Yogyakarta</td>\n",
       "      <td>199,896</td>\n",
       "      <td>3</td>\n",
       "    </tr>\n",
       "    <tr>\n",
       "      <th>...</th>\n",
       "      <td>...</td>\n",
       "      <td>...</td>\n",
       "      <td>...</td>\n",
       "    </tr>\n",
       "    <tr>\n",
       "      <th>347</th>\n",
       "      <td>RedDoorz near Rumah Sakit Condong Catur</td>\n",
       "      <td>120,284</td>\n",
       "      <td>2</td>\n",
       "    </tr>\n",
       "    <tr>\n",
       "      <th>348</th>\n",
       "      <td>RedDoorz Plus near Alun Alun Selatan 2</td>\n",
       "      <td>140,862</td>\n",
       "      <td>3</td>\n",
       "    </tr>\n",
       "    <tr>\n",
       "      <th>349</th>\n",
       "      <td>Homestay C9 Exclusive Kaliurang Yogyakarta Mit...</td>\n",
       "      <td>120,996</td>\n",
       "      <td>2</td>\n",
       "    </tr>\n",
       "    <tr>\n",
       "      <th>350</th>\n",
       "      <td>Joglo Plawang Villa &amp; Resort</td>\n",
       "      <td>393,930</td>\n",
       "      <td>4</td>\n",
       "    </tr>\n",
       "    <tr>\n",
       "      <th>351</th>\n",
       "      <td>Saijaan Yogyakarta Mitra RedDoorz</td>\n",
       "      <td>72,037</td>\n",
       "      <td>2</td>\n",
       "    </tr>\n",
       "  </tbody>\n",
       "</table>\n",
       "<p>352 rows × 3 columns</p>\n",
       "</div>"
      ],
      "text/plain": [
       "                                            Nama Hotel Harga Hotel  Bintang\n",
       "0                                   Amaya Suites Hotel     140,637        2\n",
       "1     RedDoorz Hostel near Stadion Mandala Krida Yogya      42,972        2\n",
       "2                            Allstay Ecotel Yogyakarta     226,436        2\n",
       "3                                      The Cabin Hotel     111,782        1\n",
       "4                        Grand Sarila Hotel Yogyakarta     199,896        3\n",
       "..                                                 ...         ...      ...\n",
       "347            RedDoorz near Rumah Sakit Condong Catur     120,284        2\n",
       "348             RedDoorz Plus near Alun Alun Selatan 2     140,862        3\n",
       "349  Homestay C9 Exclusive Kaliurang Yogyakarta Mit...     120,996        2\n",
       "350                       Joglo Plawang Villa & Resort     393,930        4\n",
       "351                  Saijaan Yogyakarta Mitra RedDoorz      72,037        2\n",
       "\n",
       "[352 rows x 3 columns]"
      ]
     },
     "execution_count": 24,
     "metadata": {},
     "output_type": "execute_result"
    }
   ],
   "source": [
    "df"
   ]
  },
  {
   "cell_type": "code",
   "execution_count": 27,
   "id": "8c1f8dd7-451c-49f0-8270-de36768cc9aa",
   "metadata": {},
   "outputs": [],
   "source": [
    "df.to_csv(\"Agoda 17-18.09.24 Yogyakarta Hotel Pricelist.csv\", index=False)"
   ]
  },
  {
   "cell_type": "code",
   "execution_count": 23,
   "id": "477587ce-41b0-4cce-96af-15701e7f0a5c",
   "metadata": {},
   "outputs": [],
   "source": [
    "# New Code Learnt (to find): df[df.eq(\"Eastparc Hotel Yogyakarta\").any(axis=1)]"
   ]
  }
 ],
 "metadata": {
  "kernelspec": {
   "display_name": "Python 3 (ipykernel)",
   "language": "python",
   "name": "python3"
  },
  "language_info": {
   "codemirror_mode": {
    "name": "ipython",
    "version": 3
   },
   "file_extension": ".py",
   "mimetype": "text/x-python",
   "name": "python",
   "nbconvert_exporter": "python",
   "pygments_lexer": "ipython3",
   "version": "3.12.0"
  }
 },
 "nbformat": 4,
 "nbformat_minor": 5
}
